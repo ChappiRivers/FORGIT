{
  "nbformat": 4,
  "nbformat_minor": 0,
  "metadata": {
    "colab": {
      "provenance": []
    },
    "kernelspec": {
      "name": "python3",
      "display_name": "Python 3"
    },
    "language_info": {
      "name": "python"
    }
  },
  "cells": [
    {
      "cell_type": "code",
      "execution_count": 1,
      "metadata": {
        "id": "9svsxPcJO5-M"
      },
      "outputs": [],
      "source": [
        "# чтобы работал и python, и R\n",
        "%load_ext rpy2.ipython"
      ]
    },
    {
      "cell_type": "code",
      "source": [
        "%%R\n",
        "install.packages(\"faraway\")\n",
        "library(faraway)"
      ],
      "metadata": {
        "id": "V51qCdemPEax"
      },
      "execution_count": null,
      "outputs": []
    },
    {
      "cell_type": "code",
      "source": [
        "%%R\n",
        "Sample <- read.table(\"var_9.csv\",header = TRUE,sep =\",\")\n",
        "Sample <- data.frame(Output=Sample$Output,Treatment=as.factor(Sample$Treatment))\n",
        "head(Sample)"
      ],
      "metadata": {
        "colab": {
          "base_uri": "https://localhost:8080/"
        },
        "id": "guGR2271PKSP",
        "outputId": "275335a3-4461-4263-f6cb-36ac8e43de8a"
      },
      "execution_count": 21,
      "outputs": [
        {
          "output_type": "stream",
          "name": "stdout",
          "text": [
            "       Output Treatment\n",
            "1  0.07359537         A\n",
            "2 -0.14571850         A\n",
            "3 -0.10028399         A\n",
            "4  0.08227732         A\n",
            "5  0.01246686         A\n",
            "6 -0.02609943         A\n"
          ]
        }
      ]
    },
    {
      "cell_type": "code",
      "source": [
        "%%R\n",
        "plot(Output~Treatment, data=Sample)"
      ],
      "metadata": {
        "colab": {
          "base_uri": "https://localhost:8080/",
          "height": 497
        },
        "id": "zDsKIC7cRdgO",
        "outputId": "8f715379-6728-4d4c-bb40-d634cbfc11bc"
      },
      "execution_count": 22,
      "outputs": [
        {
          "output_type": "display_data",
          "data": {
            "image/png": "[encoded data removed]"
          },
          "metadata": {}
        }
      ]
    },
    {
      "cell_type": "code",
      "source": [
        "%%R\n",
        "# оцениваем регрессионную модель\n",
        "g <- lm(Output~Treatment, Sample)\n",
        "summary(g)"
      ],
      "metadata": {
        "colab": {
          "base_uri": "https://localhost:8080/"
        },
        "id": "jRsZLLFRRuly",
        "outputId": "227e4196-6507-4315-91b6-7d3dfe7c0b00"
      },
      "execution_count": 23,
      "outputs": [
        {
          "output_type": "stream",
          "name": "stdout",
          "text": [
            "\n",
            "Call:\n",
            "lm(formula = Output ~ Treatment, data = Sample)\n",
            "\n",
            "Residuals:\n",
            "     Min       1Q   Median       3Q      Max \n",
            "-0.33764 -0.04829 -0.00110  0.06008  0.26289 \n",
            "\n",
            "Coefficients:\n",
            "            Estimate Std. Error t value Pr(>|t|)    \n",
            "(Intercept) -0.01701    0.01302  -1.307   0.1933    \n",
            "TreatmentB  -0.04094    0.01841  -2.224   0.0277 *  \n",
            "TreatmentC   0.10519    0.01841   5.714 5.93e-08 ***\n",
            "---\n",
            "Signif. codes:  0 ‘***’ 0.001 ‘**’ 0.01 ‘*’ 0.05 ‘.’ 0.1 ‘ ’ 1\n",
            "\n",
            "Residual standard error: 0.09204 on 147 degrees of freedom\n",
            "Multiple R-squared:  0.3133,\tAdjusted R-squared:  0.304 \n",
            "F-statistic: 33.54 on 2 and 147 DF,  p-value: 1.003e-12\n",
            "\n"
          ]
        }
      ]
    },
    {
      "cell_type": "markdown",
      "source": [
        "1) Сумма квадратов внутри групп:"
      ],
      "metadata": {
        "id": "Kjr0gjGTPzvs"
      }
    },
    {
      "cell_type": "code",
      "source": [
        "%%R\n",
        "(anovag_Sum_Sq_2 <- anova(g)$\"Sum Sq\"[2])"
      ],
      "metadata": {
        "colab": {
          "base_uri": "https://localhost:8080/"
        },
        "id": "rAdHicklPyyr",
        "outputId": "298861a9-95d9-47f0-f702-b49c045897a2"
      },
      "execution_count": 24,
      "outputs": [
        {
          "output_type": "stream",
          "name": "stdout",
          "text": [
            "[1] 1.245361\n"
          ]
        }
      ]
    },
    {
      "cell_type": "markdown",
      "source": [
        "2) Сумма квадратов между группами"
      ],
      "metadata": {
        "id": "excyxkR5P211"
      }
    },
    {
      "cell_type": "code",
      "source": [
        "%%R\n",
        "(anovag_Sum_Sq_1 <- anova(g)$\"Sum Sq\"[1])"
      ],
      "metadata": {
        "colab": {
          "base_uri": "https://localhost:8080/"
        },
        "id": "MR7ixhv3P212",
        "outputId": "97246497-cd2f-46a0-9448-7976e20b5a81"
      },
      "execution_count": 25,
      "outputs": [
        {
          "output_type": "stream",
          "name": "stdout",
          "text": [
            "[1] 0.5682412\n"
          ]
        }
      ]
    },
    {
      "cell_type": "markdown",
      "source": [
        "Внутригрупповая и межгрупповая дисперсии различы. Таким образом гипотеза о равенстве групповых средних скорее всего будет отвергнута."
      ],
      "metadata": {
        "id": "hwcIjbppP35n"
      }
    },
    {
      "cell_type": "code",
      "source": [
        "%%R\n",
        "(anovag_PValue<- anova(g)$\"Pr(>F)\"[1])"
      ],
      "metadata": {
        "colab": {
          "base_uri": "https://localhost:8080/"
        },
        "id": "xTzQVii9SuWh",
        "outputId": "1a8f0ec7-49de-490f-8ede-a769eefcbdcd"
      },
      "execution_count": 26,
      "outputs": [
        {
          "output_type": "stream",
          "name": "stdout",
          "text": [
            "[1] 1.003147e-12\n"
          ]
        }
      ]
    },
    {
      "cell_type": "code",
      "source": [
        "%%R\n",
        "# оцениваем модель без константы\n",
        "gi <- lm(Output~Treatment -1, Sample)\n",
        "summary(gi)"
      ],
      "metadata": {
        "colab": {
          "base_uri": "https://localhost:8080/"
        },
        "id": "YD3I48WZTFcp",
        "outputId": "aa2ddb6f-5f95-41b8-f821-d72fd235ab9f"
      },
      "execution_count": 27,
      "outputs": [
        {
          "output_type": "stream",
          "name": "stdout",
          "text": [
            "\n",
            "Call:\n",
            "lm(formula = Output ~ Treatment - 1, data = Sample)\n",
            "\n",
            "Residuals:\n",
            "     Min       1Q   Median       3Q      Max \n",
            "-0.33764 -0.04829 -0.00110  0.06008  0.26289 \n",
            "\n",
            "Coefficients:\n",
            "           Estimate Std. Error t value Pr(>|t|)    \n",
            "TreatmentA -0.01701    0.01302  -1.307    0.193    \n",
            "TreatmentB -0.05795    0.01302  -4.452 1.67e-05 ***\n",
            "TreatmentC  0.08818    0.01302   6.774 2.81e-10 ***\n",
            "---\n",
            "Signif. codes:  0 ‘***’ 0.001 ‘**’ 0.01 ‘*’ 0.05 ‘.’ 0.1 ‘ ’ 1\n",
            "\n",
            "Residual standard error: 0.09204 on 147 degrees of freedom\n",
            "Multiple R-squared:  0.3144,\tAdjusted R-squared:  0.3004 \n",
            "F-statistic: 22.47 on 3 and 147 DF,  p-value: 4.931e-12\n",
            "\n"
          ]
        }
      ]
    },
    {
      "cell_type": "markdown",
      "source": [
        "4) Сумма квадратов предиктора для теста модели H0:\n",
        " \"all group mean values equal to zero\""
      ],
      "metadata": {
        "id": "1cn3rYpqP4ag"
      }
    },
    {
      "cell_type": "code",
      "source": [
        "%%R\n",
        "(anovamgi_Sum_Sq_1 <- anova(gi)$\"Sum Sq\"[1])"
      ],
      "metadata": {
        "colab": {
          "base_uri": "https://localhost:8080/"
        },
        "id": "jwAh0U5SP4ah",
        "outputId": "34b02871-b59b-4f8b-840d-95e96e86d908"
      },
      "execution_count": 28,
      "outputs": [
        {
          "output_type": "stream",
          "name": "stdout",
          "text": [
            "[1] 0.5711524\n"
          ]
        }
      ]
    },
    {
      "cell_type": "markdown",
      "source": [
        "5) Сумма квадратов остатков для теста модели H0:\n",
        " \"all group mean values equal to zero\""
      ],
      "metadata": {
        "id": "6iDBMEhYP4h3"
      }
    },
    {
      "cell_type": "code",
      "source": [
        "%%R\n",
        "(anovagi_Sum_Sq_2<- anova(gi)$\"Sum Sq\"[2])"
      ],
      "metadata": {
        "colab": {
          "base_uri": "https://localhost:8080/"
        },
        "id": "Ly_GR_uvP4h4",
        "outputId": "6323cee6-6e65-47a5-e7c9-d5cd91653a03"
      },
      "execution_count": 29,
      "outputs": [
        {
          "output_type": "stream",
          "name": "stdout",
          "text": [
            "[1] 1.245361\n"
          ]
        }
      ]
    },
    {
      "cell_type": "markdown",
      "source": [
        "P-значение для проверки гипотезы о том, что все групповые средние равны нулю."
      ],
      "metadata": {
        "id": "rKiAcshuP4nb"
      }
    },
    {
      "cell_type": "code",
      "source": [
        "%%R\n",
        "(anovagi_PValue <- anova(gi)$\"Pr(>F)\"[1])"
      ],
      "metadata": {
        "colab": {
          "base_uri": "https://localhost:8080/"
        },
        "id": "e_HR_7YVTqgS",
        "outputId": "86b2553a-b6ad-4de7-8fac-057519141842"
      },
      "execution_count": 30,
      "outputs": [
        {
          "output_type": "stream",
          "name": "stdout",
          "text": [
            "[1] 4.931177e-12\n"
          ]
        }
      ]
    },
    {
      "cell_type": "code",
      "source": [
        "%%R\n",
        "qqnorm(g$res)"
      ],
      "metadata": {
        "colab": {
          "base_uri": "https://localhost:8080/",
          "height": 497
        },
        "id": "kgx0yybRTyOk",
        "outputId": "fc64fd89-e0b3-4963-c70c-685fe935fd41"
      },
      "execution_count": 31,
      "outputs": [
        {
          "output_type": "display_data",
          "data": {
            "image/png": "[encoded data removed]"
          },
          "metadata": {}
        }
      ]
    }
  ]
}