{
  "cells": [
    {
      "cell_type": "markdown",
      "metadata": {
        "id": "EoxrwzJVnQfV"
      },
      "source": [
        "#Предварительная обработка данных в питоне"
      ]
    },
    {
      "cell_type": "markdown",
      "metadata": {
        "id": "kl9e_WHBK7DT"
      },
      "source": [
        "Если файлы уже обработаны, то нужно удалить!"
      ]
    },
    {
      "cell_type": "code",
      "execution_count": 1,
      "metadata": {
        "id": "KpnejJw9qXR1"
      },
      "outputs": [],
      "source": [
        "import pandas as pd"
      ]
    },
    {
      "cell_type": "code",
      "execution_count": 2,
      "metadata": {
        "id": "8JUrLgQBpqKP"
      },
      "outputs": [],
      "source": [
        "def prepare_data(file_name, name, columns):\n",
        "  temp_df = pd.read_csv(file_name)\n",
        "  temp_df.drop(columns = columns, inplace = True)\n",
        "  temp_df.rename(columns = {\"<CLOSE>\": name}, inplace=True)\n",
        "  return temp_df"
      ]
    },
    {
      "cell_type": "code",
      "execution_count": 3,
      "metadata": {
        "id": "xOhOcYm1qltZ"
      },
      "outputs": [],
      "source": [
        "columns = [\"<TIME>\", \"<PER>\", \"<TICKER>\"]\n",
        "file_names = [\"BZ_220324_240311.csv\", \"CA_220324_240311.csv\", \"EURUSD_220324_240311.csv\", \"GC_220324_240311.csv\", \"SPX_220324_240311.csv\", \"USDRUB_220324_240311.csv\"]\n",
        "names = [\"BZ\", \"CA\", \"EURUSD\", \"GC\", \"SPX\", \"USDRUB\"]"
      ]
    },
    {
      "cell_type": "code",
      "execution_count": 4,
      "metadata": {
        "id": "1hW_Ls-YRjVG"
      },
      "outputs": [],
      "source": [
        "df = prepare_data(\"GAZP_220324_240311.csv\", \"GAZP\", columns)\n",
        "\n",
        "for file_name, name in zip(file_names, names):\n",
        "  df = pd.merge(\n",
        "      df,\n",
        "      prepare_data(file_name, name, columns),\n",
        "      on=\"<DATE>\"\n",
        "  )\n",
        "df.drop_duplicates(subset=[\"<DATE>\"], inplace=True)\n",
        "df.dropna(inplace=True)\n",
        "# df"
      ]
    },
    {
      "cell_type": "code",
      "execution_count": 5,
      "metadata": {
        "id": "41FeAC77xNX-"
      },
      "outputs": [],
      "source": [
        "df.to_csv(\"Stocks.csv\", index = False)"
      ]
    },
    {
      "cell_type": "markdown",
      "metadata": {
        "id": "SlgikWDm0Nah"
      },
      "source": [
        "В новом файле остались только цены закрытия всех стоимостей акций"
      ]
    },
    {
      "cell_type": "markdown",
      "metadata": {
        "id": "x-VYnghUvxn_"
      },
      "source": [
        "#Далее идет само задание"
      ]
    },
    {
      "cell_type": "code",
      "execution_count": 1,
      "metadata": {
        "colab": {
          "base_uri": "https://localhost:8080/"
        },
        "id": "4vQWwz274hPe",
        "outputId": "f6a413a0-f7a7-40dc-cb9f-fe7b44715197"
      },
      "outputs": [
        {
          "output_type": "stream",
          "name": "stderr",
          "text": [
            "Installing package into ‘/usr/local/lib/R/site-library’\n",
            "(as ‘lib’ is unspecified)\n",
            "\n",
            "Loading required package: zoo\n",
            "\n",
            "\n",
            "Attaching package: ‘zoo’\n",
            "\n",
            "\n",
            "The following objects are masked from ‘package:base’:\n",
            "\n",
            "    as.Date, as.Date.numeric\n",
            "\n",
            "\n"
          ]
        }
      ],
      "source": [
        "install.packages(\"xts\")\n",
        "library(xts)"
      ]
    },
    {
      "cell_type": "code",
      "execution_count": 2,
      "metadata": {
        "id": "neGpDZnGvw8H",
        "colab": {
          "base_uri": "https://localhost:8080/",
          "height": 286
        },
        "outputId": "c303d7e0-ea40-4e0c-bf8a-83f8308dd456"
      },
      "outputs": [
        {
          "output_type": "display_data",
          "data": {
            "text/html": [
              "<table class=\"dataframe\">\n",
              "<caption>A data.frame: 6 × 8</caption>\n",
              "<thead>\n",
              "\t<tr><th></th><th scope=col>DATE</th><th scope=col>GAZP</th><th scope=col>BZ</th><th scope=col>CA</th><th scope=col>EURUSD</th><th scope=col>GC</th><th scope=col>SPX</th><th scope=col>USDRUB</th></tr>\n",
              "\t<tr><th></th><th scope=col>&lt;date&gt;</th><th scope=col>&lt;dbl&gt;</th><th scope=col>&lt;dbl&gt;</th><th scope=col>&lt;dbl&gt;</th><th scope=col>&lt;dbl&gt;</th><th scope=col>&lt;dbl&gt;</th><th scope=col>&lt;dbl&gt;</th><th scope=col>&lt;dbl&gt;</th></tr>\n",
              "</thead>\n",
              "<tbody>\n",
              "\t<tr><th scope=row>1</th><td>22-03-24</td><td>258.51</td><td>118.20</td><td>10415.77</td><td>1.10083</td><td>1961.5</td><td>4520.16</td><td>102.2056</td></tr>\n",
              "\t<tr><th scope=row>2</th><td>22-03-25</td><td>227.00</td><td>119.98</td><td>10339.71</td><td>1.09820</td><td>1957.6</td><td>4543.06</td><td>101.2500</td></tr>\n",
              "\t<tr><th scope=row>3</th><td>22-03-29</td><td>208.00</td><td>108.56</td><td>10491.83</td><td>1.10910</td><td>1923.0</td><td>4631.60</td><td> 85.0000</td></tr>\n",
              "\t<tr><th scope=row>4</th><td>22-03-30</td><td>216.00</td><td>111.00</td><td>10463.17</td><td>1.11600</td><td>1929.4</td><td>4602.45</td><td> 83.4701</td></tr>\n",
              "\t<tr><th scope=row>5</th><td>22-03-31</td><td>242.48</td><td>105.65</td><td>10442.23</td><td>1.10725</td><td>1943.1</td><td>4530.41</td><td> 81.7081</td></tr>\n",
              "\t<tr><th scope=row>6</th><td>22-04-01</td><td>251.40</td><td>104.75</td><td>10373.89</td><td>1.10470</td><td>1928.5</td><td>4545.86</td><td> 85.0000</td></tr>\n",
              "</tbody>\n",
              "</table>\n"
            ],
            "text/markdown": "\nA data.frame: 6 × 8\n\n| <!--/--> | DATE &lt;date&gt; | GAZP &lt;dbl&gt; | BZ &lt;dbl&gt; | CA &lt;dbl&gt; | EURUSD &lt;dbl&gt; | GC &lt;dbl&gt; | SPX &lt;dbl&gt; | USDRUB &lt;dbl&gt; |\n|---|---|---|---|---|---|---|---|---|\n| 1 | 22-03-24 | 258.51 | 118.20 | 10415.77 | 1.10083 | 1961.5 | 4520.16 | 102.2056 |\n| 2 | 22-03-25 | 227.00 | 119.98 | 10339.71 | 1.09820 | 1957.6 | 4543.06 | 101.2500 |\n| 3 | 22-03-29 | 208.00 | 108.56 | 10491.83 | 1.10910 | 1923.0 | 4631.60 |  85.0000 |\n| 4 | 22-03-30 | 216.00 | 111.00 | 10463.17 | 1.11600 | 1929.4 | 4602.45 |  83.4701 |\n| 5 | 22-03-31 | 242.48 | 105.65 | 10442.23 | 1.10725 | 1943.1 | 4530.41 |  81.7081 |\n| 6 | 22-04-01 | 251.40 | 104.75 | 10373.89 | 1.10470 | 1928.5 | 4545.86 |  85.0000 |\n\n",
            "text/latex": "A data.frame: 6 × 8\n\\begin{tabular}{r|llllllll}\n  & DATE & GAZP & BZ & CA & EURUSD & GC & SPX & USDRUB\\\\\n  & <date> & <dbl> & <dbl> & <dbl> & <dbl> & <dbl> & <dbl> & <dbl>\\\\\n\\hline\n\t1 & 22-03-24 & 258.51 & 118.20 & 10415.77 & 1.10083 & 1961.5 & 4520.16 & 102.2056\\\\\n\t2 & 22-03-25 & 227.00 & 119.98 & 10339.71 & 1.09820 & 1957.6 & 4543.06 & 101.2500\\\\\n\t3 & 22-03-29 & 208.00 & 108.56 & 10491.83 & 1.10910 & 1923.0 & 4631.60 &  85.0000\\\\\n\t4 & 22-03-30 & 216.00 & 111.00 & 10463.17 & 1.11600 & 1929.4 & 4602.45 &  83.4701\\\\\n\t5 & 22-03-31 & 242.48 & 105.65 & 10442.23 & 1.10725 & 1943.1 & 4530.41 &  81.7081\\\\\n\t6 & 22-04-01 & 251.40 & 104.75 & 10373.89 & 1.10470 & 1928.5 & 4545.86 &  85.0000\\\\\n\\end{tabular}\n",
            "text/plain": [
              "  DATE     GAZP   BZ     CA       EURUSD  GC     SPX     USDRUB  \n",
              "1 22-03-24 258.51 118.20 10415.77 1.10083 1961.5 4520.16 102.2056\n",
              "2 22-03-25 227.00 119.98 10339.71 1.09820 1957.6 4543.06 101.2500\n",
              "3 22-03-29 208.00 108.56 10491.83 1.10910 1923.0 4631.60  85.0000\n",
              "4 22-03-30 216.00 111.00 10463.17 1.11600 1929.4 4602.45  83.4701\n",
              "5 22-03-31 242.48 105.65 10442.23 1.10725 1943.1 4530.41  81.7081\n",
              "6 22-04-01 251.40 104.75 10373.89 1.10470 1928.5 4545.86  85.0000"
            ]
          },
          "metadata": {}
        }
      ],
      "source": [
        "Data<-read.csv(\"./Stocks.csv\",header = TRUE)\n",
        "names(Data)[1] <- \"DATE\"\n",
        "Data$DATE <- as.Date(Data$DATE, format = \"%d/%m/%Y\")\n",
        "Data <- Data[order(Data$DATE ),]\n",
        "head(Data)"
      ]
    },
    {
      "cell_type": "code",
      "execution_count": 3,
      "metadata": {
        "id": "nOEvTjsj0iyv",
        "colab": {
          "base_uri": "https://localhost:8080/",
          "height": 286
        },
        "outputId": "98ab7c5e-d167-4b44-97b5-6159c028a049"
      },
      "outputs": [
        {
          "output_type": "display_data",
          "data": {
            "text/html": [
              "<table class=\"dataframe\">\n",
              "<caption>A data.frame: 6 × 7</caption>\n",
              "<thead>\n",
              "\t<tr><th></th><th scope=col>GAZP</th><th scope=col>BZ</th><th scope=col>CA</th><th scope=col>EURUSD</th><th scope=col>GC</th><th scope=col>SPX</th><th scope=col>USDRUB</th></tr>\n",
              "\t<tr><th></th><th scope=col>&lt;dbl&gt;</th><th scope=col>&lt;dbl&gt;</th><th scope=col>&lt;dbl&gt;</th><th scope=col>&lt;dbl&gt;</th><th scope=col>&lt;dbl&gt;</th><th scope=col>&lt;dbl&gt;</th><th scope=col>&lt;dbl&gt;</th></tr>\n",
              "</thead>\n",
              "<tbody>\n",
              "\t<tr><th scope=row>22-03-25</th><td>-0.129984360</td><td> 0.014946957</td><td>-0.007329153</td><td>-0.002391965</td><td>-0.001990254</td><td> 0.005053402</td><td>-0.009393765</td></tr>\n",
              "\t<tr><th scope=row>22-03-29</th><td>-0.087411938</td><td>-0.100022047</td><td> 0.014604980</td><td> 0.009876400</td><td>-0.017832767</td><td> 0.019301587</td><td>-0.174941449</td></tr>\n",
              "\t<tr><th scope=row>22-03-30</th><td> 0.037740328</td><td> 0.022227186</td><td>-0.002735404</td><td> 0.006201988</td><td> 0.003322607</td><td>-0.006313610</td><td>-0.018162773</td></tr>\n",
              "\t<tr><th scope=row>22-03-31</th><td> 0.115640825</td><td>-0.049398457</td><td>-0.002003692</td><td>-0.007871400</td><td> 0.007075562</td><td>-0.015776327</td><td>-0.021335344</td></tr>\n",
              "\t<tr><th scope=row>22-04-01</th><td> 0.036126063</td><td>-0.008555185</td><td>-0.006566429</td><td>-0.002305659</td><td>-0.007542137</td><td> 0.003404486</td><td> 0.039498116</td></tr>\n",
              "\t<tr><th scope=row>22-04-04</th><td> 0.005948858</td><td> 0.030369466</td><td> 0.017171873</td><td>-0.006548051</td><td> 0.001813237</td><td> 0.008058323</td><td>-0.032887867</td></tr>\n",
              "</tbody>\n",
              "</table>\n"
            ],
            "text/markdown": "\nA data.frame: 6 × 7\n\n| <!--/--> | GAZP &lt;dbl&gt; | BZ &lt;dbl&gt; | CA &lt;dbl&gt; | EURUSD &lt;dbl&gt; | GC &lt;dbl&gt; | SPX &lt;dbl&gt; | USDRUB &lt;dbl&gt; |\n|---|---|---|---|---|---|---|---|\n| 22-03-25 | -0.129984360 |  0.014946957 | -0.007329153 | -0.002391965 | -0.001990254 |  0.005053402 | -0.009393765 |\n| 22-03-29 | -0.087411938 | -0.100022047 |  0.014604980 |  0.009876400 | -0.017832767 |  0.019301587 | -0.174941449 |\n| 22-03-30 |  0.037740328 |  0.022227186 | -0.002735404 |  0.006201988 |  0.003322607 | -0.006313610 | -0.018162773 |\n| 22-03-31 |  0.115640825 | -0.049398457 | -0.002003692 | -0.007871400 |  0.007075562 | -0.015776327 | -0.021335344 |\n| 22-04-01 |  0.036126063 | -0.008555185 | -0.006566429 | -0.002305659 | -0.007542137 |  0.003404486 |  0.039498116 |\n| 22-04-04 |  0.005948858 |  0.030369466 |  0.017171873 | -0.006548051 |  0.001813237 |  0.008058323 | -0.032887867 |\n\n",
            "text/latex": "A data.frame: 6 × 7\n\\begin{tabular}{r|lllllll}\n  & GAZP & BZ & CA & EURUSD & GC & SPX & USDRUB\\\\\n  & <dbl> & <dbl> & <dbl> & <dbl> & <dbl> & <dbl> & <dbl>\\\\\n\\hline\n\t22-03-25 & -0.129984360 &  0.014946957 & -0.007329153 & -0.002391965 & -0.001990254 &  0.005053402 & -0.009393765\\\\\n\t22-03-29 & -0.087411938 & -0.100022047 &  0.014604980 &  0.009876400 & -0.017832767 &  0.019301587 & -0.174941449\\\\\n\t22-03-30 &  0.037740328 &  0.022227186 & -0.002735404 &  0.006201988 &  0.003322607 & -0.006313610 & -0.018162773\\\\\n\t22-03-31 &  0.115640825 & -0.049398457 & -0.002003692 & -0.007871400 &  0.007075562 & -0.015776327 & -0.021335344\\\\\n\t22-04-01 &  0.036126063 & -0.008555185 & -0.006566429 & -0.002305659 & -0.007542137 &  0.003404486 &  0.039498116\\\\\n\t22-04-04 &  0.005948858 &  0.030369466 &  0.017171873 & -0.006548051 &  0.001813237 &  0.008058323 & -0.032887867\\\\\n\\end{tabular}\n",
            "text/plain": [
              "         GAZP         BZ           CA           EURUSD       GC          \n",
              "22-03-25 -0.129984360  0.014946957 -0.007329153 -0.002391965 -0.001990254\n",
              "22-03-29 -0.087411938 -0.100022047  0.014604980  0.009876400 -0.017832767\n",
              "22-03-30  0.037740328  0.022227186 -0.002735404  0.006201988  0.003322607\n",
              "22-03-31  0.115640825 -0.049398457 -0.002003692 -0.007871400  0.007075562\n",
              "22-04-01  0.036126063 -0.008555185 -0.006566429 -0.002305659 -0.007542137\n",
              "22-04-04  0.005948858  0.030369466  0.017171873 -0.006548051  0.001813237\n",
              "         SPX          USDRUB      \n",
              "22-03-25  0.005053402 -0.009393765\n",
              "22-03-29  0.019301587 -0.174941449\n",
              "22-03-30 -0.006313610 -0.018162773\n",
              "22-03-31 -0.015776327 -0.021335344\n",
              "22-04-01  0.003404486  0.039498116\n",
              "22-04-04  0.008058323 -0.032887867"
            ]
          },
          "metadata": {}
        }
      ],
      "source": [
        "rates <- as.xts(as.data.frame(lapply(as.data.frame(lapply(Data[2:dim(Data)[2]], log)), diff)),\n",
        "                    order.by = Data$DATE[2:dim(Data)[1]])\n",
        "Data <- as.data.frame(rates)\n",
        "head(Data)"
      ]
    },
    {
      "cell_type": "code",
      "execution_count": 4,
      "metadata": {
        "id": "J7EyaKbt9Pl2",
        "colab": {
          "base_uri": "https://localhost:8080/",
          "height": 399
        },
        "outputId": "d9d650d1-c5e2-4a22-e3eb-5a88c3c26124"
      },
      "outputs": [
        {
          "output_type": "display_data",
          "data": {
            "text/plain": [
              "\n",
              "Call:\n",
              "lm(formula = Data$GAZP ~ Data$BZ + Data$CA + Data$EURUSD + Data$GC + \n",
              "    Data$SPX + Data$USDRUB, data = Data)\n",
              "\n",
              "Residuals:\n",
              "     Min       1Q   Median       3Q      Max \n",
              "-0.35563 -0.00725 -0.00024  0.00786  0.22867 \n",
              "\n",
              "Coefficients:\n",
              "             Estimate Std. Error t value Pr(>|t|)\n",
              "(Intercept) -0.000922   0.001358  -0.679    0.498\n",
              "Data$BZ      0.063828   0.065445   0.975    0.330\n",
              "Data$CA      0.093515   0.120248   0.778    0.437\n",
              "Data$EURUSD  0.047031   0.308784   0.152    0.879\n",
              "Data$GC      0.198609   0.176242   1.127    0.260\n",
              "Data$SPX    -0.051943   0.127020  -0.409    0.683\n",
              "Data$USDRUB -0.029759   0.065713  -0.453    0.651\n",
              "\n",
              "Residual standard error: 0.02944 on 465 degrees of freedom\n",
              "Multiple R-squared:  0.01251,\tAdjusted R-squared:  -0.0002365 \n",
              "F-statistic: 0.9814 on 6 and 465 DF,  p-value: 0.4371\n"
            ]
          },
          "metadata": {}
        }
      ],
      "source": [
        "regrGazp <-  lm(Data$GAZP ~ Data$BZ + Data$CA + Data$EURUSD + Data$GC + Data$SPX + Data$USDRUB, data=Data)\n",
        "summary(regrGazp)"
      ]
    },
    {
      "cell_type": "markdown",
      "metadata": {
        "id": "FQ7us8saH1GS"
      },
      "source": [
        "p-value = 0.4371 > 0.05 у F-статистики, что значит, что мы отвергаем 0-гипотезу о том, что данные справа значимы для доходностей Газпрома. Т.е. модель является вырожденной."
      ]
    }
  ],
  "metadata": {
    "colab": {
      "provenance": []
    },
    "kernelspec": {
      "display_name": "R",
      "name": "ir"
    },
    "language_info": {
      "name": "R"
    }
  },
  "nbformat": 4,
  "nbformat_minor": 0
}