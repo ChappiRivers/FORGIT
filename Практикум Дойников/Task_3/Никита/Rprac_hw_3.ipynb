{
  "nbformat": 4,
  "nbformat_minor": 0,
  "metadata": {
    "colab": {
      "provenance": []
    },
    "kernelspec": {
      "name": "ir",
      "display_name": "R"
    },
    "language_info": {
      "name": "R"
    }
  },
  "cells": [
    {
      "cell_type": "code",
      "execution_count": 1,
      "metadata": {
        "id": "Biof_L8UCy7H"
      },
      "outputs": [],
      "source": [
        "dataPath = \"./\"\n",
        "\n",
        "Brent <- read.table(paste(dataPath,'BRENT.csv',sep = '/'), header=TRUE,sep=';')\n",
        "Copper <- read.table(paste(dataPath,'COPPER.csv',sep = '/'), header=TRUE,sep=';')\n",
        "EurUsd <- read.table(paste(dataPath,'EURUSD.csv',sep = '/'), header=TRUE,sep=';')\n",
        "Gold <- read.table(paste(dataPath,'GOLD.csv',sep = '/'), header=TRUE,sep=';')\n",
        "Sber <- read.table(paste(dataPath,'SBER.csv',sep = '/'), header=TRUE,sep=';')\n",
        "Spx <- read.table(paste(dataPath,'SPX.csv',sep = '/'), header=TRUE,sep=';')\n",
        "UsdRub <- read.table(paste(dataPath,'USDRUB.csv',sep = '/'), header=TRUE,sep=';')"
      ]
    },
    {
      "cell_type": "code",
      "source": [
        "head(Sber)"
      ],
      "metadata": {
        "colab": {
          "base_uri": "https://localhost:8080/",
          "height": 286
        },
        "id": "J1NfwP_TV_4l",
        "outputId": "912f72b1-49f0-45c7-a52d-61b7166bbbca"
      },
      "execution_count": 2,
      "outputs": [
        {
          "output_type": "display_data",
          "data": {
            "text/html": [
              "<table class=\"dataframe\">\n",
              "<caption>A data.frame: 6 × 2</caption>\n",
              "<thead>\n",
              "\t<tr><th></th><th scope=col>X.DATE.</th><th scope=col>X.CLOSE.</th></tr>\n",
              "\t<tr><th></th><th scope=col>&lt;chr&gt;</th><th scope=col>&lt;dbl&gt;</th></tr>\n",
              "</thead>\n",
              "<tbody>\n",
              "\t<tr><th scope=row>1</th><td>24.03.2022</td><td>136.24</td></tr>\n",
              "\t<tr><th scope=row>2</th><td>25.03.2022</td><td>131.50</td></tr>\n",
              "\t<tr><th scope=row>3</th><td>28.03.2022</td><td>125.00</td></tr>\n",
              "\t<tr><th scope=row>4</th><td>29.03.2022</td><td>128.77</td></tr>\n",
              "\t<tr><th scope=row>5</th><td>30.03.2022</td><td>134.60</td></tr>\n",
              "\t<tr><th scope=row>6</th><td>31.03.2022</td><td>143.69</td></tr>\n",
              "</tbody>\n",
              "</table>\n"
            ],
            "text/markdown": "\nA data.frame: 6 × 2\n\n| <!--/--> | X.DATE. &lt;chr&gt; | X.CLOSE. &lt;dbl&gt; |\n|---|---|---|\n| 1 | 24.03.2022 | 136.24 |\n| 2 | 25.03.2022 | 131.50 |\n| 3 | 28.03.2022 | 125.00 |\n| 4 | 29.03.2022 | 128.77 |\n| 5 | 30.03.2022 | 134.60 |\n| 6 | 31.03.2022 | 143.69 |\n\n",
            "text/latex": "A data.frame: 6 × 2\n\\begin{tabular}{r|ll}\n  & X.DATE. & X.CLOSE.\\\\\n  & <chr> & <dbl>\\\\\n\\hline\n\t1 & 24.03.2022 & 136.24\\\\\n\t2 & 25.03.2022 & 131.50\\\\\n\t3 & 28.03.2022 & 125.00\\\\\n\t4 & 29.03.2022 & 128.77\\\\\n\t5 & 30.03.2022 & 134.60\\\\\n\t6 & 31.03.2022 & 143.69\\\\\n\\end{tabular}\n",
            "text/plain": [
              "  X.DATE.    X.CLOSE.\n",
              "1 24.03.2022 136.24  \n",
              "2 25.03.2022 131.50  \n",
              "3 28.03.2022 125.00  \n",
              "4 29.03.2022 128.77  \n",
              "5 30.03.2022 134.60  \n",
              "6 31.03.2022 143.69  "
            ]
          },
          "metadata": {}
        }
      ]
    },
    {
      "cell_type": "code",
      "source": [
        "Brent <- Brent[!duplicated(Brent$X.DATE.), ]\n",
        "Copper <- Copper[!duplicated(Copper$X.DATE.), ]\n",
        "EurUsd <- EurUsd[!duplicated(EurUsd$X.DATE.), ]\n",
        "Gold <- Gold[!duplicated(Gold$X.DATE.), ]\n",
        "Sber <- Sber[!duplicated(Sber$X.DATE.), ]\n",
        "Spx <- Spx[!duplicated(Spx$X.DATE.), ]\n",
        "UsdRub <- UsdRub[!duplicated(UsdRub$X.DATE.), ]"
      ],
      "metadata": {
        "id": "F4q6fdamWiYa"
      },
      "execution_count": 3,
      "outputs": []
    },
    {
      "cell_type": "code",
      "source": [
        "names(Brent)[2] <- \"Brent\"\n",
        "names(Copper)[2] <- \"Copper\"\n",
        "names(EurUsd)[2] <- \"EurUsd\"\n",
        "names(Gold)[2] <- \"Gold\"\n",
        "names(Sber)[2] <- \"Sber\"\n",
        "names(Spx)[2] <- \"Spx\"\n",
        "names(UsdRub)[2] <- \"UsdRub\""
      ],
      "metadata": {
        "id": "oNOH9ikLYppG"
      },
      "execution_count": 4,
      "outputs": []
    },
    {
      "cell_type": "code",
      "source": [
        "Stocks <- merge(Sber, Spx, by=\"X.DATE.\",all.x=TRUE, all.y = TRUE)\n",
        "Stocks <- merge(Stocks, Gold, by=\"X.DATE.\",all.x=TRUE, all.y = TRUE)\n",
        "Stocks <- merge(Stocks, Brent, by=\"X.DATE.\",all.x=TRUE, all.y = TRUE)\n",
        "Stocks <- merge(Stocks, Copper, by=\"X.DATE.\",all.x=TRUE, all.y = TRUE)\n",
        "Stocks <- merge(Stocks, EurUsd, by=\"X.DATE.\",all.x=TRUE, all.y = TRUE)\n",
        "Stocks <- merge(Stocks, UsdRub, by=\"X.DATE.\",all.x=TRUE, all.y = TRUE)"
      ],
      "metadata": {
        "id": "abJUY7NfYzjh"
      },
      "execution_count": 5,
      "outputs": []
    },
    {
      "cell_type": "code",
      "source": [
        "Stocks <- Stocks[complete.cases(Stocks), ]"
      ],
      "metadata": {
        "id": "xf7naGTrWMdK"
      },
      "execution_count": 6,
      "outputs": []
    },
    {
      "cell_type": "code",
      "source": [
        "install.packages(\"xts\")"
      ],
      "metadata": {
        "colab": {
          "base_uri": "https://localhost:8080/"
        },
        "id": "GsDaQdCifyoe",
        "outputId": "d101b700-2ac1-49fe-a060-fad1f6f31117"
      },
      "execution_count": 7,
      "outputs": [
        {
          "output_type": "stream",
          "name": "stderr",
          "text": [
            "Installing package into ‘/usr/local/lib/R/site-library’\n",
            "(as ‘lib’ is unspecified)\n",
            "\n",
            "also installing the dependency ‘zoo’\n",
            "\n",
            "\n"
          ]
        }
      ]
    },
    {
      "cell_type": "code",
      "source": [
        "library(xts)"
      ],
      "metadata": {
        "colab": {
          "base_uri": "https://localhost:8080/"
        },
        "id": "LvZF_eG5gGla",
        "outputId": "0e938317-ce32-467f-d703-99f3089a03da"
      },
      "execution_count": 8,
      "outputs": [
        {
          "output_type": "stream",
          "name": "stderr",
          "text": [
            "Loading required package: zoo\n",
            "\n",
            "\n",
            "Attaching package: ‘zoo’\n",
            "\n",
            "\n",
            "The following objects are masked from ‘package:base’:\n",
            "\n",
            "    as.Date, as.Date.numeric\n",
            "\n",
            "\n"
          ]
        }
      ]
    },
    {
      "cell_type": "code",
      "source": [
        "rates <- as.xts(as.data.frame(lapply(as.data.frame(lapply(Stocks[2:8], log)), diff)),\n",
        "                    order.by = as.Date(Stocks$X.DATE.[2:dim(Stocks)[1]],\"%d.%m.%Y\"))"
      ],
      "metadata": {
        "id": "yZRPnrjUdZWH"
      },
      "execution_count": 11,
      "outputs": []
    },
    {
      "cell_type": "code",
      "source": [
        "Stocks <- as.data.frame(rates)"
      ],
      "metadata": {
        "id": "QluCSzCRgMfz"
      },
      "execution_count": 16,
      "outputs": []
    },
    {
      "cell_type": "code",
      "source": [
        "head(Stocks)"
      ],
      "metadata": {
        "colab": {
          "base_uri": "https://localhost:8080/",
          "height": 286
        },
        "id": "HOLvstLNhjkZ",
        "outputId": "f768fd42-d2fd-4285-fe3d-4376eccd717c"
      },
      "execution_count": 18,
      "outputs": [
        {
          "output_type": "display_data",
          "data": {
            "text/html": [
              "<table class=\"dataframe\">\n",
              "<caption>A data.frame: 6 × 7</caption>\n",
              "<thead>\n",
              "\t<tr><th></th><th scope=col>Sber</th><th scope=col>Spx</th><th scope=col>Gold</th><th scope=col>Brent</th><th scope=col>Copper</th><th scope=col>EurUsd</th><th scope=col>UsdRub</th></tr>\n",
              "\t<tr><th></th><th scope=col>&lt;dbl&gt;</th><th scope=col>&lt;dbl&gt;</th><th scope=col>&lt;dbl&gt;</th><th scope=col>&lt;dbl&gt;</th><th scope=col>&lt;dbl&gt;</th><th scope=col>&lt;dbl&gt;</th><th scope=col>&lt;dbl&gt;</th></tr>\n",
              "</thead>\n",
              "<tbody>\n",
              "\t<tr><th scope=row>2022-03-24</th><td>-0.1872760</td><td> 0.12977122</td><td> 0.07597249</td><td>0.3553464</td><td>0.1781605</td><td>0.04312101</td><td> 0.29615182</td></tr>\n",
              "\t<tr><th scope=row>2022-03-25</th><td>-0.7297687</td><td>-0.07444186</td><td>-0.03182372</td><td>0.3762252</td><td>0.1985767</td><td>0.01250732</td><td> 0.12870805</td></tr>\n",
              "\t<tr><th scope=row>2022-03-29</th><td>-0.8193764</td><td>-0.09560652</td><td>-0.06580527</td><td>0.2803399</td><td>0.2221870</td><td>0.02615274</td><td>-0.07104707</td></tr>\n",
              "\t<tr><th scope=row>2022-03-30</th><td>-0.7168971</td><td>-0.06772941</td><td>-0.06189821</td><td>0.2937062</td><td>0.2064143</td><td>0.02882547</td><td>-0.07121164</td></tr>\n",
              "\t<tr><th scope=row>2022-03-31</th><td>-0.6527427</td><td>-0.06726895</td><td>-0.05987660</td><td>0.2695171</td><td>0.2057332</td><td>0.02454812</td><td>-0.09624089</td></tr>\n",
              "\t<tr><th scope=row>2022-04-01</th><td>-0.6480686</td><td>-0.12226790</td><td>-0.08209481</td><td>0.2268497</td><td>0.2091571</td><td>0.01921115</td><td>-0.07562027</td></tr>\n",
              "</tbody>\n",
              "</table>\n"
            ],
            "text/markdown": "\nA data.frame: 6 × 7\n\n| <!--/--> | Sber &lt;dbl&gt; | Spx &lt;dbl&gt; | Gold &lt;dbl&gt; | Brent &lt;dbl&gt; | Copper &lt;dbl&gt; | EurUsd &lt;dbl&gt; | UsdRub &lt;dbl&gt; |\n|---|---|---|---|---|---|---|---|\n| 2022-03-24 | -0.1872760 |  0.12977122 |  0.07597249 | 0.3553464 | 0.1781605 | 0.04312101 |  0.29615182 |\n| 2022-03-25 | -0.7297687 | -0.07444186 | -0.03182372 | 0.3762252 | 0.1985767 | 0.01250732 |  0.12870805 |\n| 2022-03-29 | -0.8193764 | -0.09560652 | -0.06580527 | 0.2803399 | 0.2221870 | 0.02615274 | -0.07104707 |\n| 2022-03-30 | -0.7168971 | -0.06772941 | -0.06189821 | 0.2937062 | 0.2064143 | 0.02882547 | -0.07121164 |\n| 2022-03-31 | -0.6527427 | -0.06726895 | -0.05987660 | 0.2695171 | 0.2057332 | 0.02454812 | -0.09624089 |\n| 2022-04-01 | -0.6480686 | -0.12226790 | -0.08209481 | 0.2268497 | 0.2091571 | 0.01921115 | -0.07562027 |\n\n",
            "text/latex": "A data.frame: 6 × 7\n\\begin{tabular}{r|lllllll}\n  & Sber & Spx & Gold & Brent & Copper & EurUsd & UsdRub\\\\\n  & <dbl> & <dbl> & <dbl> & <dbl> & <dbl> & <dbl> & <dbl>\\\\\n\\hline\n\t2022-03-24 & -0.1872760 &  0.12977122 &  0.07597249 & 0.3553464 & 0.1781605 & 0.04312101 &  0.29615182\\\\\n\t2022-03-25 & -0.7297687 & -0.07444186 & -0.03182372 & 0.3762252 & 0.1985767 & 0.01250732 &  0.12870805\\\\\n\t2022-03-29 & -0.8193764 & -0.09560652 & -0.06580527 & 0.2803399 & 0.2221870 & 0.02615274 & -0.07104707\\\\\n\t2022-03-30 & -0.7168971 & -0.06772941 & -0.06189821 & 0.2937062 & 0.2064143 & 0.02882547 & -0.07121164\\\\\n\t2022-03-31 & -0.6527427 & -0.06726895 & -0.05987660 & 0.2695171 & 0.2057332 & 0.02454812 & -0.09624089\\\\\n\t2022-04-01 & -0.6480686 & -0.12226790 & -0.08209481 & 0.2268497 & 0.2091571 & 0.01921115 & -0.07562027\\\\\n\\end{tabular}\n",
            "text/plain": [
              "           Sber       Spx         Gold        Brent     Copper    EurUsd    \n",
              "2022-03-24 -0.1872760  0.12977122  0.07597249 0.3553464 0.1781605 0.04312101\n",
              "2022-03-25 -0.7297687 -0.07444186 -0.03182372 0.3762252 0.1985767 0.01250732\n",
              "2022-03-29 -0.8193764 -0.09560652 -0.06580527 0.2803399 0.2221870 0.02615274\n",
              "2022-03-30 -0.7168971 -0.06772941 -0.06189821 0.2937062 0.2064143 0.02882547\n",
              "2022-03-31 -0.6527427 -0.06726895 -0.05987660 0.2695171 0.2057332 0.02454812\n",
              "2022-04-01 -0.6480686 -0.12226790 -0.08209481 0.2268497 0.2091571 0.01921115\n",
              "           UsdRub     \n",
              "2022-03-24  0.29615182\n",
              "2022-03-25  0.12870805\n",
              "2022-03-29 -0.07104707\n",
              "2022-03-30 -0.07121164\n",
              "2022-03-31 -0.09624089\n",
              "2022-04-01 -0.07562027"
            ]
          },
          "metadata": {}
        }
      ]
    },
    {
      "cell_type": "code",
      "source": [
        "regr <- lm(Stocks$Sber ~ Stocks$Spx+Stocks$Gold+Stocks$Brent+Stocks$Copper+Stocks$EurUsd+Stocks$UsdRub, data=Stocks)\n",
        "summary(regr)"
      ],
      "metadata": {
        "colab": {
          "base_uri": "https://localhost:8080/",
          "height": 451
        },
        "id": "rVOmr5a0gVbg",
        "outputId": "132630a6-e939-4427-c903-19e84394263f"
      },
      "execution_count": 21,
      "outputs": [
        {
          "output_type": "display_data",
          "data": {
            "text/plain": [
              "\n",
              "Call:\n",
              "lm(formula = Stocks$Sber ~ Stocks$Spx + Stocks$Gold + Stocks$Brent + \n",
              "    Stocks$Copper + Stocks$EurUsd + Stocks$UsdRub, data = Stocks)\n",
              "\n",
              "Residuals:\n",
              "     Min       1Q   Median       3Q      Max \n",
              "-0.33915 -0.07401 -0.00601  0.07386  0.33439 \n",
              "\n",
              "Coefficients:\n",
              "                Estimate Std. Error t value Pr(>|t|)    \n",
              "(Intercept)    0.0003836  0.0049142   0.078 0.937810    \n",
              "Stocks$Spx     0.2941338  0.0793687   3.706 0.000236 ***\n",
              "Stocks$Gold    1.9711016  0.1600643  12.314  < 2e-16 ***\n",
              "Stocks$Brent  -0.1613032  0.0383906  -4.202 3.18e-05 ***\n",
              "Stocks$Copper -1.8904706  0.0870448 -21.718  < 2e-16 ***\n",
              "Stocks$EurUsd  2.8382421  0.3035298   9.351  < 2e-16 ***\n",
              "Stocks$UsdRub  0.7319461  0.0433661  16.878  < 2e-16 ***\n",
              "---\n",
              "Signif. codes:  0 ‘***’ 0.001 ‘**’ 0.01 ‘*’ 0.05 ‘.’ 0.1 ‘ ’ 1\n",
              "\n",
              "Residual standard error: 0.1068 on 465 degrees of freedom\n",
              "Multiple R-squared:  0.9704,\tAdjusted R-squared:   0.97 \n",
              "F-statistic:  2538 on 6 and 465 DF,  p-value: < 2.2e-16\n"
            ]
          },
          "metadata": {}
        }
      ]
    }
  ]
}